{
 "cells": [
  {
   "cell_type": "markdown",
   "metadata": {
    "id": "n8QlFzjPRIGN"
   },
   "source": [
    "# Projekt w ramach Pracy Magisterskiej\n",
    "### *Niezależne wyrocznie w sieci Ethereum z wykorzystaniem uczenia maszynowego i dowodu z wiedzą zerową*\n",
    "\n",
    "**Przeprowadzone kroki**\n",
    "1. Przygotowanie danych i wytrenowanie sieci neuronowej\n",
    "2. Konwersja sieci neuronowej w obwód arymetyczny z wykorzystaniem biblioteki EZKL\n",
    "3. Utworzenie weryfikatora za pomocą języka Solidity i wdrożenie go do testowego środowiska Remix\n",
    "\n",
    "**Important Note**: Aby zapobiec nieoczekiwanym błędom, zaleca się uruchomić notatnik po pojedynczych komórkach."
   ]
  },
  {
   "cell_type": "markdown",
   "metadata": {
    "id": "dx81GOIySIpa"
   },
   "source": [
    "## Krok 1: Przygotowanie pierwotnego modelu z wykorzystaniem sieci neuronowej\n",
    "\n",
    "W ramach badań pracy, zastosowano popularny zbiór danych irysów. Zbiór danych Iris to kolekcja kwiatów irysa i jest jednym z najwcześniej pozyskanych i udokumentowanych zbiorów danych, wykorzystywanych do walidacji, metodologii i klasyfikacji.\n",
    "\n",
    "[Więcej informacji na temat zbioru danych](https://archive.ics.uci.edu/dataset/53/iris)"
   ]
  },
  {
   "cell_type": "markdown",
   "metadata": {
    "id": "JhHE2WMvS9NP"
   },
   "source": [
    "Na początku należy wczytać niezbędne biblioteki"
   ]
  },
  {
   "cell_type": "code",
   "execution_count": 1,
   "metadata": {
    "id": "gvQ5HL1bTDWF"
   },
   "outputs": [],
   "source": [
    "import pandas as pd\n",
    "import numpy as np\n",
    "import torch\n",
    "import torch.nn as nn\n",
    "import torch.nn.functional as F\n",
    "from torch.autograd import Variable\n",
    "import tqdm\n",
    "import matplotlib.pyplot as plt\n",
    "\n",
    "from sklearn.datasets import load_iris\n",
    "from sklearn.model_selection import train_test_split\n",
    "from sklearn.metrics import accuracy_score, precision_score, recall_score\n",
    "from sklearn.model_selection import train_test_split\n",
    "from sklearn.preprocessing import StandardScaler\n",
    "from sklearn.model_selection import train_test_split\n",
    "\n",
    "import os\n",
    "import json\n",
    "import ezkl"
   ]
  },
  {
   "cell_type": "markdown",
   "metadata": {},
   "source": [
    "## Opis zbioru danych"
   ]
  },
  {
   "cell_type": "code",
   "execution_count": 2,
   "metadata": {
    "colab": {
     "base_uri": "https://localhost:8080/",
     "height": 424
    },
    "id": "C4XXA1hoU30c",
    "outputId": "4fbd47ec-88d1-4ef7-baee-3e3894cc29db"
   },
   "outputs": [],
   "source": [
    "df1 = pd.read_csv('Iris.csv')"
   ]
  },
  {
   "cell_type": "code",
   "execution_count": 3,
   "metadata": {
    "id": "dIdQ9U3yTKtP"
   },
   "outputs": [],
   "source": [
    "def get_info_dataframe(dataframe):\n",
    "    print(f\"Opis zbioru danych - \\n\")\n",
    "    print(dataframe.info(),\"\\n\")\n",
    "    print(f\"Wartości brakujące - \\n\")\n",
    "    print(dataframe.isnull().sum(),\"\\n\")\n",
    "    print(f\"Wymiar zbioru danych - \\n\")\n",
    "    print(dataframe.shape)"
   ]
  },
  {
   "cell_type": "code",
   "execution_count": 4,
   "metadata": {
    "colab": {
     "base_uri": "https://localhost:8080/"
    },
    "id": "agmbEdmfUO1-",
    "outputId": "87766edd-50db-48af-aa5d-3f4fc164f8b7"
   },
   "outputs": [
    {
     "name": "stdout",
     "output_type": "stream",
     "text": [
      "Opis zbioru danych - \n",
      "\n",
      "<class 'pandas.core.frame.DataFrame'>\n",
      "RangeIndex: 150 entries, 0 to 149\n",
      "Data columns (total 6 columns):\n",
      " #   Column         Non-Null Count  Dtype  \n",
      "---  ------         --------------  -----  \n",
      " 0   Id             150 non-null    int64  \n",
      " 1   SepalLengthCm  150 non-null    float64\n",
      " 2   SepalWidthCm   150 non-null    float64\n",
      " 3   PetalLengthCm  150 non-null    float64\n",
      " 4   PetalWidthCm   150 non-null    float64\n",
      " 5   Species        150 non-null    object \n",
      "dtypes: float64(4), int64(1), object(1)\n",
      "memory usage: 7.2+ KB\n",
      "None \n",
      "\n",
      "Wartości brakujące - \n",
      "\n",
      "Id               0\n",
      "SepalLengthCm    0\n",
      "SepalWidthCm     0\n",
      "PetalLengthCm    0\n",
      "PetalWidthCm     0\n",
      "Species          0\n",
      "dtype: int64 \n",
      "\n",
      "Wymiar zbioru danych - \n",
      "\n",
      "(150, 6)\n"
     ]
    }
   ],
   "source": [
    "get_info_dataframe(df1)"
   ]
  },
  {
   "cell_type": "markdown",
   "metadata": {},
   "source": [
    "Zmiana etykiet z ciągów znaków na wartości numeryczne, które są łatwiejsze do zrozumienia przez algorytm."
   ]
  },
  {
   "cell_type": "code",
   "execution_count": 5,
   "metadata": {
    "colab": {
     "base_uri": "https://localhost:8080/"
    },
    "id": "9PjADXnuXbdk",
    "outputId": "81602926-c386-4f68-a9ee-ae2d5837fe47"
   },
   "outputs": [],
   "source": [
    "df1['Species'] = df1['Species'].map({'Iris-setosa':0,'Iris-versicolor':1,'Iris-virginica':2})\n",
    "df1.drop(['Id'],axis=1,inplace=True)"
   ]
  },
  {
   "cell_type": "code",
   "execution_count": 6,
   "metadata": {},
   "outputs": [
    {
     "data": {
      "text/html": [
       "<div>\n",
       "<style scoped>\n",
       "    .dataframe tbody tr th:only-of-type {\n",
       "        vertical-align: middle;\n",
       "    }\n",
       "\n",
       "    .dataframe tbody tr th {\n",
       "        vertical-align: top;\n",
       "    }\n",
       "\n",
       "    .dataframe thead th {\n",
       "        text-align: right;\n",
       "    }\n",
       "</style>\n",
       "<table border=\"1\" class=\"dataframe\">\n",
       "  <thead>\n",
       "    <tr style=\"text-align: right;\">\n",
       "      <th></th>\n",
       "      <th>SepalLengthCm</th>\n",
       "      <th>SepalWidthCm</th>\n",
       "      <th>PetalLengthCm</th>\n",
       "      <th>PetalWidthCm</th>\n",
       "      <th>Species</th>\n",
       "    </tr>\n",
       "  </thead>\n",
       "  <tbody>\n",
       "    <tr>\n",
       "      <th>0</th>\n",
       "      <td>5.1</td>\n",
       "      <td>3.5</td>\n",
       "      <td>1.4</td>\n",
       "      <td>0.2</td>\n",
       "      <td>0</td>\n",
       "    </tr>\n",
       "    <tr>\n",
       "      <th>1</th>\n",
       "      <td>4.9</td>\n",
       "      <td>3.0</td>\n",
       "      <td>1.4</td>\n",
       "      <td>0.2</td>\n",
       "      <td>0</td>\n",
       "    </tr>\n",
       "    <tr>\n",
       "      <th>2</th>\n",
       "      <td>4.7</td>\n",
       "      <td>3.2</td>\n",
       "      <td>1.3</td>\n",
       "      <td>0.2</td>\n",
       "      <td>0</td>\n",
       "    </tr>\n",
       "    <tr>\n",
       "      <th>3</th>\n",
       "      <td>4.6</td>\n",
       "      <td>3.1</td>\n",
       "      <td>1.5</td>\n",
       "      <td>0.2</td>\n",
       "      <td>0</td>\n",
       "    </tr>\n",
       "    <tr>\n",
       "      <th>4</th>\n",
       "      <td>5.0</td>\n",
       "      <td>3.6</td>\n",
       "      <td>1.4</td>\n",
       "      <td>0.2</td>\n",
       "      <td>0</td>\n",
       "    </tr>\n",
       "  </tbody>\n",
       "</table>\n",
       "</div>"
      ],
      "text/plain": [
       "   SepalLengthCm  SepalWidthCm  PetalLengthCm  PetalWidthCm  Species\n",
       "0            5.1           3.5            1.4           0.2        0\n",
       "1            4.9           3.0            1.4           0.2        0\n",
       "2            4.7           3.2            1.3           0.2        0\n",
       "3            4.6           3.1            1.5           0.2        0\n",
       "4            5.0           3.6            1.4           0.2        0"
      ]
     },
     "execution_count": 6,
     "metadata": {},
     "output_type": "execute_result"
    }
   ],
   "source": [
    "df1.head()"
   ]
  },
  {
   "cell_type": "code",
   "execution_count": 7,
   "metadata": {},
   "outputs": [],
   "source": [
    "X = df1.drop([\"Species\"],axis=1).values\n",
    "y = df1[\"Species\"].values"
   ]
  },
  {
   "cell_type": "code",
   "execution_count": 8,
   "metadata": {},
   "outputs": [],
   "source": [
    "scaler = StandardScaler()"
   ]
  },
  {
   "cell_type": "markdown",
   "metadata": {},
   "source": [
    "Podział zbioru danych na dane treningowe i dane testowe."
   ]
  },
  {
   "cell_type": "code",
   "execution_count": 9,
   "metadata": {},
   "outputs": [],
   "source": [
    "X_train, X_test, y_train, y_test = train_test_split(X, y, test_size=0.30, random_state=42)"
   ]
  },
  {
   "cell_type": "code",
   "execution_count": 10,
   "metadata": {},
   "outputs": [],
   "source": [
    "X_train = scaler.fit_transform(X_train)\n",
    "X_test = scaler.transform(X_test)"
   ]
  },
  {
   "cell_type": "code",
   "execution_count": 11,
   "metadata": {},
   "outputs": [],
   "source": [
    "X_train = torch.FloatTensor(X_train)\n",
    "X_test = torch.FloatTensor(X_test)\n",
    "y_train = torch.LongTensor(y_train)\n",
    "y_test = torch.LongTensor(y_test)"
   ]
  },
  {
   "cell_type": "markdown",
   "metadata": {},
   "source": [
    "## Model sieci neuronowej"
   ]
  },
  {
   "cell_type": "code",
   "execution_count": 12,
   "metadata": {},
   "outputs": [],
   "source": [
    "class NeuralNetworkClassificationModel(nn.Module):\n",
    "    def __init__(self,input_dim,output_dim):\n",
    "        super(NeuralNetworkClassificationModel,self).__init__()\n",
    "        self.input_layer    = nn.Linear(input_dim,128)\n",
    "        self.hidden_layer1  = nn.Linear(128,64)\n",
    "        self.output_layer   = nn.Linear(64,output_dim)\n",
    "        self.relu = nn.ReLU()\n",
    "\n",
    "\n",
    "    def forward(self,x):\n",
    "        out =  self.relu(self.input_layer(x))\n",
    "        out =  self.relu(self.hidden_layer1(out))\n",
    "        out =  self.output_layer(out)\n",
    "        return out"
   ]
  },
  {
   "cell_type": "code",
   "execution_count": 13,
   "metadata": {},
   "outputs": [],
   "source": [
    "input_dim  = 4 # 4 neurony dla warstwy wejściowej: sepal_length, sepal_width, petal_length, petal_width\n",
    "output_dim = 3 # 3 neurony dla warstwy wyjściowej: setosa, versicolor, virginica\n",
    "model = NeuralNetworkClassificationModel(input_dim,output_dim)"
   ]
  },
  {
   "cell_type": "markdown",
   "metadata": {},
   "source": [
    "## Proces nauczania z wykorzystaniem odpowiednich parametrów"
   ]
  },
  {
   "cell_type": "code",
   "execution_count": 14,
   "metadata": {},
   "outputs": [],
   "source": [
    "learning_rate = 0.01\n",
    "criterion = nn.CrossEntropyLoss()\n",
    "optimizer = torch.optim.Adam(model.parameters(),lr=learning_rate)"
   ]
  },
  {
   "cell_type": "code",
   "execution_count": 15,
   "metadata": {},
   "outputs": [],
   "source": [
    "def train_network(model,optimizer,criterion,X_train,y_train,X_test,y_test,num_epochs,train_losses,test_losses):\n",
    "    for epoch in range(num_epochs):\n",
    "        # oczyszczanie gradientu\n",
    "        optimizer.zero_grad()\n",
    "\n",
    "        # operacja forward feed\n",
    "        output_train = model(X_train)\n",
    "\n",
    "        # obliczenie funkcji straty\n",
    "        loss_train = criterion(output_train, y_train)\n",
    "\n",
    "        # propagacja wsteczna\n",
    "        loss_train.backward()\n",
    "\n",
    "        # aktualizacja parametrów\n",
    "        optimizer.step()\n",
    "\n",
    "\n",
    "        output_test = model(X_test)\n",
    "        loss_test = criterion(output_test,y_test)\n",
    "\n",
    "        train_losses[epoch] = loss_train.item()\n",
    "        test_losses[epoch] = loss_test.item()\n",
    "\n",
    "        if (epoch + 1) % 50 == 0:\n",
    "            print(f\"Epoka {epoch+1}/{num_epochs}, Strata (zbiór treningowy): {loss_train.item():.4f}, Strata (zbiór testowy): {loss_test.item():.4f}\")"
   ]
  },
  {
   "cell_type": "code",
   "execution_count": 16,
   "metadata": {},
   "outputs": [],
   "source": [
    "num_epochs = 1000\n",
    "train_losses = np.zeros(num_epochs)\n",
    "test_losses  = np.zeros(num_epochs)"
   ]
  },
  {
   "cell_type": "code",
   "execution_count": 17,
   "metadata": {},
   "outputs": [
    {
     "name": "stdout",
     "output_type": "stream",
     "text": [
      "Epoka 50/1000, Strata (zbiór treningowy): 0.0273, Strata (zbiór testowy): 0.0030\n",
      "Epoka 100/1000, Strata (zbiór treningowy): 0.0023, Strata (zbiór testowy): 0.0023\n",
      "Epoka 150/1000, Strata (zbiór treningowy): 0.0005, Strata (zbiór testowy): 0.0025\n",
      "Epoka 200/1000, Strata (zbiór treningowy): 0.0002, Strata (zbiór testowy): 0.0028\n",
      "Epoka 250/1000, Strata (zbiór treningowy): 0.0001, Strata (zbiór testowy): 0.0030\n",
      "Epoka 300/1000, Strata (zbiór treningowy): 0.0001, Strata (zbiór testowy): 0.0032\n",
      "Epoka 350/1000, Strata (zbiór treningowy): 0.0001, Strata (zbiór testowy): 0.0033\n",
      "Epoka 400/1000, Strata (zbiór treningowy): 0.0001, Strata (zbiór testowy): 0.0032\n",
      "Epoka 450/1000, Strata (zbiór treningowy): 0.0000, Strata (zbiór testowy): 0.0032\n",
      "Epoka 500/1000, Strata (zbiór treningowy): 0.0000, Strata (zbiór testowy): 0.0032\n",
      "Epoka 550/1000, Strata (zbiór treningowy): 0.0000, Strata (zbiór testowy): 0.0032\n",
      "Epoka 600/1000, Strata (zbiór treningowy): 0.0000, Strata (zbiór testowy): 0.0032\n",
      "Epoka 650/1000, Strata (zbiór treningowy): 0.0000, Strata (zbiór testowy): 0.0031\n",
      "Epoka 700/1000, Strata (zbiór treningowy): 0.0000, Strata (zbiór testowy): 0.0031\n",
      "Epoka 750/1000, Strata (zbiór treningowy): 0.0000, Strata (zbiór testowy): 0.0031\n",
      "Epoka 800/1000, Strata (zbiór treningowy): 0.0000, Strata (zbiór testowy): 0.0031\n",
      "Epoka 850/1000, Strata (zbiór treningowy): 0.0000, Strata (zbiór testowy): 0.0031\n",
      "Epoka 900/1000, Strata (zbiór treningowy): 0.0000, Strata (zbiór testowy): 0.0031\n",
      "Epoka 950/1000, Strata (zbiór treningowy): 0.0000, Strata (zbiór testowy): 0.0031\n",
      "Epoka 1000/1000, Strata (zbiór treningowy): 0.0000, Strata (zbiór testowy): 0.0031\n"
     ]
    }
   ],
   "source": [
    "train_network(model,optimizer,criterion,X_train,y_train,X_test,y_test,num_epochs,train_losses,test_losses)"
   ]
  },
  {
   "cell_type": "code",
   "execution_count": 18,
   "metadata": {
    "colab": {
     "base_uri": "https://localhost:8080/",
     "height": 546
    },
    "id": "2fHJAgvwboCe",
    "outputId": "513c73b7-2663-4bb3-f7b4-cae208940070"
   },
   "outputs": [
    {
     "data": {
      "image/png": "[encoded data removed]",
      "text/plain": [
       "<Figure size 1000x1000 with 1 Axes>"
      ]
     },
     "metadata": {},
     "output_type": "display_data"
    }
   ],
   "source": [
    "plt.figure(figsize=(10,10))\n",
    "plt.plot(train_losses, label='Strata (zbiór treningowy)')\n",
    "plt.plot(test_losses, label='Strata (zbiór testowy)')\n",
    "plt.legend()\n",
    "plt.show()"
   ]
  },
  {
   "cell_type": "code",
   "execution_count": 19,
   "metadata": {},
   "outputs": [],
   "source": [
    "predictions_train = []\n",
    "predictions_test =  []\n",
    "with torch.no_grad():\n",
    "    predictions_train = model(X_train)\n",
    "    predictions_test = model(X_test)"
   ]
  },
  {
   "cell_type": "code",
   "execution_count": 20,
   "metadata": {},
   "outputs": [],
   "source": [
    "def get_accuracy_multiclass(pred_arr,original_arr):\n",
    "    if len(pred_arr)!=len(original_arr):\n",
    "        return False\n",
    "    pred_arr = pred_arr.numpy()\n",
    "    original_arr = original_arr.numpy()\n",
    "    final_pred= []\n",
    "\n",
    "    for i in range(len(pred_arr)):\n",
    "        final_pred.append(np.argmax(pred_arr[i]))\n",
    "    final_pred = np.array(final_pred)\n",
    "    count = 0\n",
    "\n",
    "    for i in range(len(original_arr)):\n",
    "        if final_pred[i] == original_arr[i]:\n",
    "            count+=1\n",
    "    return count/len(final_pred)"
   ]
  },
  {
   "cell_type": "code",
   "execution_count": 21,
   "metadata": {},
   "outputs": [],
   "source": [
    "train_acc = get_accuracy_multiclass(predictions_train,y_train)\n",
    "test_acc  = get_accuracy_multiclass(predictions_test,y_test)"
   ]
  },
  {
   "cell_type": "code",
   "execution_count": 22,
   "metadata": {},
   "outputs": [
    {
     "name": "stdout",
     "output_type": "stream",
     "text": [
      "Precyzja modelu dla danych zbioru treningowego: 100.0%\n",
      "Precyzja modelu dla danych zbioru testowego: 100.0%\n"
     ]
    }
   ],
   "source": [
    "print(f\"Precyzja modelu dla danych zbioru treningowego: {round(train_acc*100,3)}%\")\n",
    "print(f\"Precyzja modelu dla danych zbioru testowego: {round(test_acc*100,3)}%\")"
   ]
  },
  {
   "cell_type": "markdown",
   "metadata": {
    "id": "JgtwrbMZcgla"
   },
   "source": [
    "# Krok 2: Konwersja modelu na obwód arytmetyczny"
   ]
  },
  {
   "cell_type": "markdown",
   "metadata": {
    "id": "-b_z_d2FdVTB"
   },
   "source": [
    "Na początku eksportujemy model jako uniwersalny plik `.onnx`. Biblioteka EZKL wczyta ten plik i dokona konwersji. Po przeprowadzonej konwersji w obwód, będzie można wygenerować dowód obliczeniowy dla modelu."
   ]
  },
  {
   "cell_type": "code",
   "execution_count": 23,
   "metadata": {
    "id": "YeKWP0tFeCpq"
   },
   "outputs": [],
   "source": [
    "# Określenie ścieżek\n",
    "\n",
    "model_path = os.path.join('network.onnx')\n",
    "data_path = os.path.join('input.json')\n",
    "cal_data_path = os.path.join('calibration.json')"
   ]
  },
  {
   "cell_type": "markdown",
   "metadata": {},
   "source": [
    "Po procesie treningowym, następuje eksport pliku (`network.onnx`). Tworzymy także przykładowy plik z danymi wejściowymi (`input.json`)."
   ]
  },
  {
   "cell_type": "code",
   "execution_count": 24,
   "metadata": {
    "colab": {
     "base_uri": "https://localhost:8080/"
    },
    "id": "cQeNw_qndQ8g",
    "outputId": "2d40f14e-7fbb-4377-e9ee-0e7678edb2ce"
   },
   "outputs": [
    {
     "data": {
      "text/plain": [
       "tensor([[ 0.3101, -0.4958,  0.4840, -0.0514]])"
      ]
     },
     "execution_count": 24,
     "metadata": {},
     "output_type": "execute_result"
    }
   ],
   "source": [
    "# Przykładowy kwiat (Virginica) - nasz input.json\n",
    "# x = torch.tensor([[7.7000, 2.6000, 6.9000, 2.3000]])\n",
    "x = X_test[0].reshape(1, 4)\n",
    "\n",
    "# Zmienia tryb modelu na ewaluację\n",
    "model.eval()\n",
    "\n",
    "# Dla gotowego modelu wprowadzamy dane wejściowe i oczekujemy klasyfikacji.\n",
    "\n",
    "with torch.no_grad():\n",
    "        output = model(x)\n",
    "\n",
    "# Proces eksportowania\n",
    "torch.onnx.export(model,                     # nasz model\n",
    "                  x,                         # dane wejściowe dla modelu\n",
    "                  model_path,                # ścieżka zapisu dla modelu\n",
    "                  export_params=True,        # eksport parametrów do modelu docelowego\n",
    "                  opset_version=10,          # wersja ONNX\n",
    "                  do_constant_folding=True,  # włączamy optymalizacje constant folding\n",
    "                  input_names = ['input'],   # nazwa dla danych wejściowych\n",
    "                  output_names = ['output'], # nazwa dla danych wyjściowych\n",
    "                  dynamic_axes={'input' : {0 : 'batch_size'},    # długość osi dla zmiennych\n",
    "                                'output' : {0 : 'batch_size'}})\n",
    "\n",
    "data_array = ((x).detach().numpy()).reshape([-1]).tolist()\n",
    "\n",
    "data = dict(input_data = [data_array])\n",
    "\n",
    "    # Zapis danych wejściowych do input.json\n",
    "json.dump(data, open(data_path, 'w'))\n",
    "\n",
    "x"
   ]
  },
  {
   "cell_type": "code",
   "execution_count": 25,
   "metadata": {},
   "outputs": [
    {
     "name": "stdout",
     "output_type": "stream",
     "text": [
      "Według prywatnego modelu ze zbioru danych, kwiat zaproponowany przez weryfikatora to: Iris-virginica\n"
     ]
    }
   ],
   "source": [
    "species = [\"Iris-setosa\", \"Iris-versicolor\", \"Iris-virginica\"]\n",
    "class_likelihood = np.argmax(species)\n",
    "print(f\"Według prywatnego modelu ze zbioru danych, kwiat zaproponowany przez weryfikatora to: { species[class_likelihood] }\")"
   ]
  },
  {
   "cell_type": "markdown",
   "metadata": {
    "id": "9P4x79hIeiLO"
   },
   "source": [
    "Po wyeksportowaniu modelu, możemy przystąpić do wygenerowania ustawień dla fazy konfiguracyjnej"
   ]
  },
  {
   "cell_type": "code",
   "execution_count": 26,
   "metadata": {
    "id": "cY25BIyreIX8"
   },
   "outputs": [],
   "source": [
    "# !RUST_LOG=trace\n",
    "py_run_args = ezkl.PyRunArgs()\n",
    "py_run_args.input_visibility = \"public\"\n",
    "py_run_args.output_visibility = \"public\"\n",
    "py_run_args.param_visibility = \"private\"\n",
    "\n",
    "res = ezkl.gen_settings()\n",
    "assert res == True"
   ]
  },
  {
   "cell_type": "markdown",
   "metadata": {},
   "source": [
    "Dodatkowa kalibracja w celu optymalizacji zasobów"
   ]
  },
  {
   "cell_type": "code",
   "execution_count": 27,
   "metadata": {},
   "outputs": [
    {
     "name": "stderr",
     "output_type": "stream",
     "text": [
      "\n",
      "\n",
      " <------------- Numerical Fidelity Report (input_scale: 2, param_scale: 2, scale_input_multiplier: 10) ------------->\n",
      "\n",
      "+------------+--------------+-----------+-------------+----------------+------------------+---------------+---------------+--------------------+--------------------+------------------------+\n",
      "| mean_error | median_error | max_error | min_error   | mean_abs_error | median_abs_error | max_abs_error | min_abs_error | mean_squared_error | mean_percent_error | mean_abs_percent_error |\n",
      "+------------+--------------+-----------+-------------+----------------+------------------+---------------+---------------+--------------------+--------------------+------------------------+\n",
      "| 0.1489846  | -0.40205097  | 0.7822294 | -0.40205097 | 0.41701856     | 0.40205097       | 0.7822294     | 0.06677532    | 0.25932893         | -0.3389686         | 0.3389686              |\n",
      "+------------+--------------+-----------+-------------+----------------+------------------+---------------+---------------+--------------------+--------------------+------------------------+\n",
      "\n",
      "\n"
     ]
    }
   ],
   "source": [
    "# wykorzystujemy dane z zestawu testowego do kalibracji\n",
    "cal_data = dict(input_data = X_test.flatten().tolist())\n",
    "\n",
    "# Zapis ustawień do calibration.json\n",
    "json.dump(data, open(cal_data_path, 'w'))\n",
    "\n",
    "# Optymalizacja, parametry pozostawione domyślnie\n",
    "res = await ezkl.calibrate_settings(target = \"resources\", max_logrows = 12, scales = [2])"
   ]
  },
  {
   "cell_type": "markdown",
   "metadata": {
    "id": "MFmPMBQ1jYao"
   },
   "source": [
    "Następnie proces kompilacji. Pozwala on na szybszą generację dowodu."
   ]
  },
  {
   "cell_type": "code",
   "execution_count": 28,
   "metadata": {
    "id": "De5XtpGUerkZ"
   },
   "outputs": [],
   "source": [
    "res = ezkl.compile_circuit()\n",
    "assert res == True"
   ]
  },
  {
   "cell_type": "markdown",
   "metadata": {
    "id": "UbkuSVKljmhA"
   },
   "source": [
    "Zanim przystąpimy do uruchomienia konfiguracji. Należy wygenerować łańcuch znaków SRS."
   ]
  },
  {
   "cell_type": "code",
   "execution_count": 29,
   "metadata": {
    "id": "amaTcWG6f2GI"
   },
   "outputs": [],
   "source": [
    "res = await ezkl.get_srs()"
   ]
  },
  {
   "cell_type": "markdown",
   "metadata": {
    "id": "Y92p3GhVj1Jd"
   },
   "source": [
    "Uruchomienie konfiguracji pozwoli na wygenerowanie pary kluczy - **klucza dowodzącego** (pk) oraz **klucza weryfikującego** (vk)."
   ]
  },
  {
   "cell_type": "code",
   "execution_count": 30,
   "metadata": {
    "id": "fdsteit9jzfK"
   },
   "outputs": [],
   "source": [
    "res = ezkl.setup()\n",
    "\n",
    "assert res == True"
   ]
  },
  {
   "cell_type": "markdown",
   "metadata": {
    "id": "QYlqpP3jkExm"
   },
   "source": [
    "Następuje proces generowania dowodu dokonania obliczeń na modelu"
   ]
  },
  {
   "cell_type": "code",
   "execution_count": 31,
   "metadata": {
    "id": "yoz5Vks5kaHI"
   },
   "outputs": [],
   "source": [
    "witness_path = os.path.join('witness.json')\n",
    "\n",
    "res = await ezkl.gen_witness()\n",
    "assert os.path.isfile(witness_path)"
   ]
  },
  {
   "cell_type": "code",
   "execution_count": 32,
   "metadata": {
    "colab": {
     "base_uri": "https://localhost:8080/"
    },
    "id": "eKkFBZX1kBdE",
    "outputId": "48c67e19-a491-4515-f09c-a560df8c3834"
   },
   "outputs": [],
   "source": [
    "proof_path = os.path.join('proof.json')\n",
    "\n",
    "proof = ezkl.prove(proof_type=\"single\", proof_path=proof_path)\n",
    "assert os.path.isfile(proof_path)"
   ]
  },
  {
   "cell_type": "code",
   "execution_count": 33,
   "metadata": {
    "colab": {
     "base_uri": "https://localhost:8080/"
    },
    "id": "DuuH-qcOkQf1",
    "outputId": "375fdd63-1c0b-4c3c-eddd-f890a752923c"
   },
   "outputs": [
    {
     "name": "stdout",
     "output_type": "stream",
     "text": [
      "Weryfikacja dowodu powiodła się.\n"
     ]
    }
   ],
   "source": [
    "res = ezkl.verify()\n",
    "\n",
    "assert res == True\n",
    "print(\"Weryfikacja dowodu powiodła się.\")"
   ]
  },
  {
   "cell_type": "markdown",
   "metadata": {
    "id": "TOSRigalkwH-"
   },
   "source": [
    "### W ten sposób nasza wytrenowana sieć neuronowa została przekonwertowana w obwód arytmetyczny klasy Halo2"
   ]
  },
  {
   "cell_type": "markdown",
   "metadata": {
    "id": "flrg3NOGwsJh"
   },
   "source": [
    "# Krok 3: Utworzenie weryfikatora\n",
    "\n",
    "Mając przygotowany zestaw konfiguracyjny dla obwodu, możemy wdrożyć weryfikatora na łańcuch bloków\n",
    "\n",
    "Weryfikator napisany jest w języku Solidity, będziemy zatem potrzebować `solc=0.8.20` do tego zadania"
   ]
  },
  {
   "cell_type": "markdown",
   "metadata": {
    "id": "HRHvkMjVlfWU"
   },
   "source": [
    "Gdy solc (Kompilator Solidity) znajduje się w środowisku, można przystąpić do stworzenia weryfikatora."
   ]
  },
  {
   "cell_type": "code",
   "execution_count": 34,
   "metadata": {
    "id": "gYlw20VZkva7"
   },
   "outputs": [],
   "source": [
    "sol_code_path = os.path.join('Verifier.sol')\n",
    "abi_path = os.path.join('Verifier.abi')\n",
    "\n",
    "res = await ezkl.create_evm_verifier(\n",
    "        sol_code_path=sol_code_path,\n",
    "        abi_path=abi_path, \n",
    "    )\n",
    "\n",
    "assert res == True\n",
    "assert os.path.isfile(sol_code_path)"
   ]
  },
  {
   "cell_type": "code",
   "execution_count": 35,
   "metadata": {
    "colab": {
     "base_uri": "https://localhost:8080/"
    },
    "id": "jQSAVMvxrBQD",
    "outputId": "691484fa-ef21-4b40-e179-9d2d90abd3d0"
   },
   "outputs": [
    {
     "name": "stdout",
     "output_type": "stream",
     "text": [
      "pubInputs:  [\"0x30644e72e131a029b85045b68181585d2833e84879b9709143e1f593effff59a\", \"0x0000000000000000000000000000000000000000000000000000000000000b38\", \"0x30644e72e131a029b85045b68181585d2833e84879b9709143e1f593effffe6b\"]\n",
      "proof:  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\n"
     ]
    }
   ],
   "source": [
    "onchain_input_array = []\n",
    "\n",
    "# generowanie danych wejściowych dla kontraktu\n",
    "formatted_output = \"[\"\n",
    "for i, value in enumerate(proof[\"instances\"]):\n",
    "    for j, field_element in enumerate(value):\n",
    "        onchain_input_array.append(ezkl.felt_to_big_endian(field_element))\n",
    "        formatted_output += '\"' + str(onchain_input_array[-1]) + '\"'\n",
    "        if j != len(value) - 1:\n",
    "            formatted_output += \", \"\n",
    "    if i != len(proof[\"instances\"]) - 1:\n",
    "        formatted_output += \", \"\n",
    "formatted_output += \"]\"\n",
    "\n",
    "# Te dane zostaną wykorzystane, aby zweryfikować czy dowód jest prawidłowy. Dane zostaną wprowadzone do wygenerowanego inteligentnego kontraktu Verifier.sol\n",
    "print(\"pubInputs: \", formatted_output)\n",
    "print(\"proof: \", proof[\"proof\"])"
   ]
  },
  {
   "cell_type": "markdown",
   "metadata": {
    "id": "zrzPxPvZmX9b"
   },
   "source": [
    "## Pozostało wdrożyć kontrakt i sprawdzić jak zweryfikuje powyższe wartości.\n",
    "\n",
    "W ramach badań nad tą pracą, wykorzystano środowisko Remix https://remix.ethereum.org\n",
    "\n",
    "### Autor: *Pomianowski Jędrzej*\n",
    "#### Dla Uniwersytetu Ekonomicznego w Poznaniu"
   ]
  }
 ],
 "metadata": {
  "colab": {
   "provenance": []
  },
  "kernelspec": {
   "display_name": "Python 3 (ipykernel)",
   "language": "python",
   "name": "python3"
  },
  "language_info": {
   "codemirror_mode": {
    "name": "ipython",
    "version": 3
   },
   "file_extension": ".py",
   "mimetype": "text/x-python",
   "name": "python",
   "nbconvert_exporter": "python",
   "pygments_lexer": "ipython3",
   "version": "3.12.2"
  }
 },
 "nbformat": 4,
 "nbformat_minor": 4
}
